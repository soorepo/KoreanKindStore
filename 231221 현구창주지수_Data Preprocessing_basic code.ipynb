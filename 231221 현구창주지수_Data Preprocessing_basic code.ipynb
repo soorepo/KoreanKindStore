{
 "cells": [
  {
   "cell_type": "code",
   "execution_count": 54,
   "metadata": {},
   "outputs": [],
   "source": [
    "import pandas as pd\n",
    "import numpy as np\n",
    "import matplotlib.pyplot as plt\n",
    "import seaborn as sns\n",
    "import glob\n",
    "import requests\n",
    "from bs4 import BeautifulSoup\n",
    "from selenium import webdriver\n",
    "from selenium.webdriver.common.by import By\n",
    "from selenium.webdriver.common.keys import Keys\n",
    "import time\n",
    "import re"
   ]
  },
  {
   "cell_type": "markdown",
   "metadata": {},
   "source": [
    "##### 지역 파일 불러오기"
   ]
  },
  {
   "cell_type": "code",
   "execution_count": null,
   "metadata": {},
   "outputs": [],
   "source": [
    "# Total_Data File 불러오기\n",
    "지역명 = pd.read_csv(r'Total Data_csv\\Data_지역명.csv')\n",
    "지역명"
   ]
  },
  {
   "cell_type": "code",
   "execution_count": 56,
   "metadata": {},
   "outputs": [],
   "source": [
    "\n",
    "# 주소 변경하기 > ver2 주소로\n",
    "address = pd.read_csv('Naver_score_ver02_csv/ver2_지역명.csv')\n",
    "지역명['주소'] = address['주소']"
   ]
  },
  {
   "cell_type": "code",
   "execution_count": 57,
   "metadata": {},
   "outputs": [],
   "source": [
    "\n",
    "# 필요없는 칼럼 DROP하기 > keyword\n",
    "# '시,군,구' 칼럼/'Unnamed' 칼럼이 있는 경우에도 DROP하기\n",
    "지역명.drop('keyword', axis=1, inplace=True)"
   ]
  },
  {
   "cell_type": "code",
   "execution_count": 58,
   "metadata": {},
   "outputs": [],
   "source": [
    "\n",
    "# 평점, 별점 이름 변경하기 > 카카오별점, 네이버별점\n",
    "지역명.rename(columns = {'평점':'카카오별점', '별점':'네이버별점'}, inplace=True)"
   ]
  },
  {
   "cell_type": "code",
   "execution_count": null,
   "metadata": {},
   "outputs": [],
   "source": [
    "\n",
    "# 네이버별점 숫자만 남기기\n",
    "naver_num = 지역명[지역명['네이버별점'].str.contains('별점\\n')]['네이버별점'].apply(lambda x:x.split('\\n')[1])\n",
    "지역명['네이버별점'] = naver_num\n",
    "\n",
    "지역명['네이버별점'] = 지역명['네이버별점'].fillna(0)\n",
    "\n",
    "지역명"
   ]
  },
  {
   "cell_type": "code",
   "execution_count": null,
   "metadata": {},
   "outputs": [],
   "source": [
    "\n",
    "# 카카오 평점과 네이버 평점 순위 매기기 - 내림차순\n",
    "\n",
    "# 평점을 float로 변환하기 \n",
    "지역명['네이버별점'] = 지역명['네이버별점'].astype('float')\n",
    "\n",
    "# 지역별 네이버 별점 순위 20위까지 구하기\n",
    "지역명.sort_values(by = '네이버별점',ascending=False)[:20]"
   ]
  },
  {
   "cell_type": "code",
   "execution_count": 69,
   "metadata": {},
   "outputs": [
    {
     "data": {
      "text/plain": [
       "업종        object\n",
       "업소명       object\n",
       "주요품목      object\n",
       "가격        object\n",
       "연락처       object\n",
       "주소        object\n",
       "카카오별점     object\n",
       "네이버별점    float64\n",
       "위도       float64\n",
       "경도       float64\n",
       "dtype: object"
      ]
     },
     "execution_count": 69,
     "metadata": {},
     "output_type": "execute_result"
    }
   ],
   "source": [
    "지역명.dtypes"
   ]
  },
  {
   "cell_type": "code",
   "execution_count": null,
   "metadata": {},
   "outputs": [],
   "source": [
    "\n",
    "# 카카오 평점 순위 매기기\n",
    "\n",
    "# object를 str으로 바꿔주기 \n",
    "지역명['카카오별점'] = 지역명['카카오별점'].astype('str')\n",
    "\n",
    "# '별점 없음'을 0으로 바꿔 숫자로 맞춰주기\n",
    "지역명['카카오별점'] = 지역명['카카오별점'].apply(lambda x:x.replace('별점 없음','0'))\n",
    "\n",
    "# 카카오별점을 float로 변환하기\n",
    "지역명['카카오별점'] = 지역명['카카오별점'].astype('float')\n",
    "\n",
    "# 지역별 네이버 별점 순위 20위까지 구하기\n",
    "지역명.sort_values(by='카카오별점', ascending=False)[:20]"
   ]
  },
  {
   "cell_type": "code",
   "execution_count": null,
   "metadata": {},
   "outputs": [],
   "source": [
    "\n",
    "# 네이버별점, 카카오별점 숫자만 남기기_마무리\n",
    "지역명['네이버별점'] = 지역명['네이버별점'].replace(0.0, '별점없음')\n",
    "지역명['카카오별점'] = 지역명['카카오별점'].replace(0.0, '별점없음')"
   ]
  },
  {
   "cell_type": "code",
   "execution_count": null,
   "metadata": {},
   "outputs": [],
   "source": [
    "지역명"
   ]
  },
  {
   "cell_type": "code",
   "execution_count": null,
   "metadata": {},
   "outputs": [],
   "source": [
    "지역명.to_csv('지역명.csv', encoding='uft-8-sig')"
   ]
  }
 ],
 "metadata": {
  "kernelspec": {
   "display_name": "py39tf2",
   "language": "python",
   "name": "python3"
  },
  "language_info": {
   "codemirror_mode": {
    "name": "ipython",
    "version": 3
   },
   "file_extension": ".py",
   "mimetype": "text/x-python",
   "name": "python",
   "nbconvert_exporter": "python",
   "pygments_lexer": "ipython3",
   "version": "3.9.18"
  }
 },
 "nbformat": 4,
 "nbformat_minor": 2
}
