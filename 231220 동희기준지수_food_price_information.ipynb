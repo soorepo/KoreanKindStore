{
 "cells": [
  {
   "cell_type": "code",
   "execution_count": 9,
   "metadata": {},
   "outputs": [],
   "source": [
    "import requests\n",
    "from bs4 import BeautifulSoup\n",
    "from selenium.webdriver.common.by import By\n",
    "from selenium import webdriver\n",
    "from selenium.webdriver.common.keys import Keys\n",
    "import time\n",
    "\n",
    "import numpy as np\n",
    "import pandas as pd"
   ]
  },
  {
   "cell_type": "code",
   "execution_count": 10,
   "metadata": {},
   "outputs": [],
   "source": [
    "# 시도별 판매단가 url 가져오기\n",
    "url = 'https://www.atfis.or.kr/fip/front/M000000287/stats/pos.do'\n",
    "\n",
    "# 크롬 드라이버 실행하기\n",
    "driver = webdriver.Chrome()\n",
    "\n",
    "# 시도별 판매단가 url로 이동하기\n",
    "driver.get(url)"
   ]
  },
  {
   "cell_type": "code",
   "execution_count": 11,
   "metadata": {},
   "outputs": [],
   "source": [
    "# 대분류 드롭다운 메뉴 버튼 찾기\n",
    "menu_dropdown = driver.find_element(By.XPATH, '//*[@id=\"payform\"]/div/dl[1]/dd/ul/li[1]/select')\n",
    "\n",
    "# 메뉴 버튼 클릭하기\n",
    "menu_dropdown.click()\n",
    "\n",
    "# 대분류 메뉴 설정하기\n",
    "menu_range = len(menu_dropdown.text.split('\\n'))\n",
    "\n",
    "for b in range(1, menu_range+1):\n",
    "    menu_dropdown.find_element(By.XPATH, f'//*[@id=\"payform\"]/div/dl[1]/dd/ul/li[1]/select/option[{b}]').click()\n"
   ]
  },
  {
   "cell_type": "code",
   "execution_count": 28,
   "metadata": {},
   "outputs": [],
   "source": [
    "# 소분류 드롭다운 메뉴 버튼 찾기\n",
    "somenu_dropdown = driver.find_element(By.XPATH, '//*[@id=\"payform\"]/div/dl[1]/dd/ul/li[2]/select')\n",
    "\n",
    "# 메뉴 버튼 클릭하기\n",
    "somenu_dropdown.click()\n",
    "\n",
    "# 소분류 메뉴 설정하기\n",
    "somenu_range = len(somenu_dropdown.text.split('\\n'))\n",
    "\n",
    "for s in range(1, somenu_range+1):\n",
    "    somenu_dropdown.find_element(By.XPATH, f'//*[@id=\"payform\"]/div/dl[1]/dd/ul/li[2]/select/option[{s}]').click()"
   ]
  },
  {
   "cell_type": "code",
   "execution_count": 29,
   "metadata": {},
   "outputs": [],
   "source": [
    "# 대분류 조회기간 버튼 찾아서 클릭하기\n",
    "date_dropdown = driver.find_element(By.XPATH, '//*[@id=\"payform\"]/div/dl[2]/dd/ul/li[1]/select')\n",
    "date_dropdown.click()\n",
    "\n",
    "# 대분류 조회기간 설정하기\n",
    "year_range = len(date_dropdown.text.split('\\n'))\n",
    "\n",
    "for y in range(1,year_range+1):\n",
    "    date_dropdown.find_element(By.XPATH, f'//*[@id=\"payform\"]/div/dl[2]/dd/ul/li[1]/select/option[{y}]').click()\n",
    "    time.sleep(0.5)"
   ]
  },
  {
   "cell_type": "code",
   "execution_count": 30,
   "metadata": {},
   "outputs": [],
   "source": [
    "# 소분류 조회기간 버튼 찾아서 클릭하기\n",
    "so_date_dropdown = driver.find_element(By.XPATH, '//*[@id=\"payform\"]/div/dl[2]/dd/ul/li[2]/select')\n",
    "so_date_dropdown.click()\n",
    "\n",
    "# 소분류 조회기간 설정하기\n",
    "month_range = len(so_date_dropdown.text.split('\\n'))\n",
    "\n",
    "for m in range(1,month_range+1):\n",
    "    so_date_dropdown.find_element(By.XPATH, f'//*[@id=\"payform\"]/div/dl[2]/dd/ul/li[2]/select/option[{m}]').click()\n",
    "    time.sleep(0.5)"
   ]
  },
  {
   "cell_type": "code",
   "execution_count": 12,
   "metadata": {},
   "outputs": [],
   "source": [
    "# 웹 스크립트 받아오기\n",
    "html = driver.page_source\n",
    "\n",
    "# 웹스크립트에서 원하는 콘텐츠 추출하기 - parsing\n",
    "soup = BeautifulSoup(html, 'html.parser')"
   ]
  },
  {
   "cell_type": "code",
   "execution_count": 27,
   "metadata": {},
   "outputs": [],
   "source": [
    "back_date_path = soup.select('#contentGroup > div > div > div:nth-child(5) > div > div.payList > h5 > span.date')\n",
    "back_name_path = soup.select('#contentGroup > div > div > div:nth-child(5) > div > div.payList > h5 > span.tit')\n",
    "back_info = soup.select('#contentGroup > div > div > div:nth-child(5) > div > div.payList > ul > li')"
   ]
  },
  {
   "cell_type": "code",
   "execution_count": 28,
   "metadata": {},
   "outputs": [
    {
     "data": {
      "text/plain": [
       "'2022년 03월'"
      ]
     },
     "execution_count": 28,
     "metadata": {},
     "output_type": "execute_result"
    }
   ],
   "source": [
    "back_date_path[0].text"
   ]
  },
  {
   "cell_type": "code",
   "execution_count": 29,
   "metadata": {},
   "outputs": [
    {
     "data": {
      "text/plain": [
       "'아메리카노'"
      ]
     },
     "execution_count": 29,
     "metadata": {},
     "output_type": "execute_result"
    }
   ],
   "source": [
    "back_name_path[0].text"
   ]
  },
  {
   "cell_type": "code",
   "execution_count": 21,
   "metadata": {},
   "outputs": [
    {
     "ename": "IndexError",
     "evalue": "list index out of range",
     "output_type": "error",
     "traceback": [
      "\u001b[1;31m---------------------------------------------------------------------------\u001b[0m",
      "\u001b[1;31mIndexError\u001b[0m                                Traceback (most recent call last)",
      "Cell \u001b[1;32mIn[21], line 20\u001b[0m\n\u001b[0;32m     17\u001b[0m back_date \u001b[38;5;241m=\u001b[39m back_date_path[\u001b[38;5;241m0\u001b[39m]\u001b[38;5;241m.\u001b[39mtext\n\u001b[0;32m     18\u001b[0m date_list\u001b[38;5;241m.\u001b[39mappend(back_date)\n\u001b[1;32m---> 20\u001b[0m menu_name \u001b[38;5;241m=\u001b[39m \u001b[43mmenu_name_list\u001b[49m\u001b[43m[\u001b[49m\u001b[38;5;241;43m0\u001b[39;49m\u001b[43m]\u001b[49m\u001b[38;5;241m.\u001b[39mtext\n\u001b[0;32m     21\u001b[0m menu_name_list\u001b[38;5;241m.\u001b[39mappend(menu_name)\n",
      "\u001b[1;31mIndexError\u001b[0m: list index out of range"
     ]
    }
   ],
   "source": [
    "date_list = []\n",
    "menu_name_list = []\n",
    "local_list = []\n",
    "price_list = []\n",
    "updown_list = []\n",
    "\n",
    "for back in range(len(back_info)):\n",
    "    local = back_info[back].select('.area')[0].text\n",
    "    local_list.append(local)\n",
    "    \n",
    "    price = back_info[back].select('.won')[0].text\n",
    "    price_list.append(price)\n",
    "    \n",
    "    updown = back_info[back].select('.pay')[0].text\n",
    "    updown_list.append(updown)\n",
    "\n",
    "back_date = back_date_path[0].text\n",
    "date_list.append(back_date)\n",
    "\n",
    "menu_name = menu_name_list[0].text\n",
    "menu_name_list.append(menu_name)\n"
   ]
  },
  {
   "cell_type": "code",
   "execution_count": null,
   "metadata": {},
   "outputs": [],
   "source": []
  },
  {
   "cell_type": "code",
   "execution_count": 33,
   "metadata": {},
   "outputs": [],
   "source": [
    "# 데이터를 가져와 지역, 가격, 증감률로 나누어 리스트마다 분류하기\n",
    "local_list = []\n",
    "price_list = []\n",
    "updown_list = []\n",
    "\n",
    "for back in range(len(back_info)):\n",
    "    local = back_info[back].select('.area')[0].text\n",
    "    local_list.append(local)\n",
    "    \n",
    "    price = back_info[back].select('.won')[0].text\n",
    "    price_list.append(price)\n",
    "    \n",
    "    updown = back_info[back].select('.pay')[0].text\n",
    "    updown_list.append(updown)"
   ]
  },
  {
   "cell_type": "code",
   "execution_count": 67,
   "metadata": {},
   "outputs": [],
   "source": [
    "# 5중 for문 돌리기\n",
    "\n",
    "# 시도별 판매단가 url 가져오기\n",
    "url = 'https://www.atfis.or.kr/fip/front/M000000287/stats/pos.do'\n",
    "\n",
    "# 크롬 드라이버 실행하기\n",
    "driver = webdriver.Chrome()\n",
    "\n",
    "# 시도별 판매단가 url로 이동하기\n",
    "driver.get(url)\n",
    "\n",
    "local_list = []\n",
    "price_list = []\n",
    "updown_list = []\n",
    "menu_name_list = []\n",
    "date_list = []\n",
    "\n",
    "# 대분류 드롭다운 메뉴 버튼 찾기\n",
    "menu_dropdown = driver.find_element(By.XPATH, '//*[@id=\"payform\"]/div/dl[1]/dd/ul/li[1]/select')\n",
    "\n",
    "# 메뉴 버튼 클릭하기\n",
    "    \n",
    "# 대분류 메뉴 설정하기\n",
    "menu_range = len(menu_dropdown.text.split('\\n'))\n",
    "\n",
    "for b in range(1, menu_range+1):\n",
    "    menu_dropdown.find_element(By.XPATH, f'//*[@id=\"payform\"]/div/dl[1]/dd/ul/li[1]/select/option[{b}]').click()\n",
    "    time.sleep(0.5)\n",
    "    \n",
    "    \n",
    "    # 소분류 드롭다운 메뉴 버튼 찾기\n",
    "    somenu_dropdown = driver.find_element(By.XPATH, '//*[@id=\"payform\"]/div/dl[1]/dd/ul/li[2]/select')\n",
    "\n",
    "    # 메뉴 버튼 클릭하기\n",
    "    \n",
    "    # 소분류 메뉴 설정하기\n",
    "    somenu_range = len(somenu_dropdown.text.split('\\n'))\n",
    "\n",
    "    for s in range(1, somenu_range+1):\n",
    "        somenu_dropdown.find_element(By.XPATH, f'//*[@id=\"payform\"]/div/dl[1]/dd/ul/li[2]/select/option[{s}]').click()\n",
    "        time.sleep(0.5)\n",
    "\n",
    "        \n",
    "        # 대분류 조회기간 버튼 찾아서 클릭하기\n",
    "        date_dropdown = driver.find_element(By.XPATH, '//*[@id=\"payform\"]/div/dl[2]/dd/ul/li[1]/select')\n",
    "        \n",
    "        # 대분류 조회기간 설정하기\n",
    "        year_range = len(date_dropdown.text.split('\\n'))\n",
    "\n",
    "        for y in range(1,year_range+1):\n",
    "            date_dropdown.find_element(By.XPATH, f'//*[@id=\"payform\"]/div/dl[2]/dd/ul/li[1]/select/option[{y}]').click()\n",
    "            time.sleep(0.5)\n",
    "\n",
    "            \n",
    "            # 월 단위 조회기간 설정\n",
    "\n",
    "            # 소분류 조회기간 버튼 찾아서 클릭하기\n",
    "            so_date_dropdown = driver.find_element(By.XPATH, '//*[@id=\"payform\"]/div/dl[2]/dd/ul/li[2]/select')\n",
    "            \n",
    "            # 소분류 조회기간 설정하기\n",
    "            month_range = len(so_date_dropdown.text.split('\\n'))\n",
    "\n",
    "            for m in range(1,month_range+1):\n",
    "                so_date_dropdown.find_element(By.XPATH, f'//*[@id=\"payform\"]/div/dl[2]/dd/ul/li[2]/select/option[{m}]').click()\n",
    "                time.sleep(0.5)\n",
    "\n",
    "                # 웹 스크립트 받아오기\n",
    "                html = driver.page_source\n",
    "\n",
    "                # 웹스크립트에서 원하는 콘텐츠 추출하기 - parsing\n",
    "                soup = BeautifulSoup(html, 'html.parser')\n",
    "\n",
    "                # 메뉴별, 조회기간 설정 후 지역, 가격, 변동률 가져오기\n",
    "                back_date = soup.select('#contentGroup > div > div > div:nth-child(5) > div > div.payList > h5 > span.date')\n",
    "                back_name = soup.select('#contentGroup > div > div > div:nth-child(5) > div > div.payList > h5 > span.tit')\n",
    "                back_info = soup.select('#contentGroup > div > div > div:nth-child(5) > div > div.payList > ul > li')\n",
    "                back_menu = soup.select('#menuSelect1>option')\n",
    "                \n",
    "                for back in range(len(back_info)):\n",
    "\n",
    "                    local = back_info[back].select('.area')[0].text\n",
    "                    local_list.append(local)\n",
    "                    \n",
    "                    price = back_info[back].select('.won')[0].text\n",
    "                    price_list.append(price)\n",
    "                    \n",
    "                    updown = back_info[back].select('.pay')[0].text\n",
    "                    updown_list.append(updown)\n",
    "                    \n",
    "                    menu_name = back_name[0].text\n",
    "                    menu_name_list.append(menu_name)\n",
    "                    \n",
    "                    date = back_date[0].text\n",
    "                    date_list.append(date)"
   ]
  },
  {
   "cell_type": "code",
   "execution_count": 68,
   "metadata": {},
   "outputs": [
    {
     "data": {
      "text/plain": [
       "33137"
      ]
     },
     "execution_count": 68,
     "metadata": {},
     "output_type": "execute_result"
    }
   ],
   "source": [
    "len(local_list)\n"
   ]
  },
  {
   "cell_type": "code",
   "execution_count": 69,
   "metadata": {},
   "outputs": [
    {
     "data": {
      "text/plain": [
       "33137"
      ]
     },
     "execution_count": 69,
     "metadata": {},
     "output_type": "execute_result"
    }
   ],
   "source": [
    "len(price_list)\n"
   ]
  },
  {
   "cell_type": "code",
   "execution_count": 70,
   "metadata": {},
   "outputs": [
    {
     "data": {
      "text/plain": [
       "33137"
      ]
     },
     "execution_count": 70,
     "metadata": {},
     "output_type": "execute_result"
    }
   ],
   "source": [
    "len(updown_list)\n"
   ]
  },
  {
   "cell_type": "code",
   "execution_count": 71,
   "metadata": {},
   "outputs": [
    {
     "data": {
      "text/plain": [
       "33137"
      ]
     },
     "execution_count": 71,
     "metadata": {},
     "output_type": "execute_result"
    }
   ],
   "source": [
    "len(menu_name_list)\n"
   ]
  },
  {
   "cell_type": "code",
   "execution_count": 72,
   "metadata": {},
   "outputs": [
    {
     "data": {
      "text/plain": [
       "33137"
      ]
     },
     "execution_count": 72,
     "metadata": {},
     "output_type": "execute_result"
    }
   ],
   "source": [
    "len(date_list)"
   ]
  },
  {
   "cell_type": "code",
   "execution_count": 73,
   "metadata": {},
   "outputs": [
    {
     "data": {
      "text/html": [
       "<div>\n",
       "<style scoped>\n",
       "    .dataframe tbody tr th:only-of-type {\n",
       "        vertical-align: middle;\n",
       "    }\n",
       "\n",
       "    .dataframe tbody tr th {\n",
       "        vertical-align: top;\n",
       "    }\n",
       "\n",
       "    .dataframe thead th {\n",
       "        text-align: right;\n",
       "    }\n",
       "</style>\n",
       "<table border=\"1\" class=\"dataframe\">\n",
       "  <thead>\n",
       "    <tr style=\"text-align: right;\">\n",
       "      <th></th>\n",
       "      <th>0</th>\n",
       "      <th>메뉴</th>\n",
       "      <th>가격</th>\n",
       "      <th>증감율</th>\n",
       "      <th>기간</th>\n",
       "    </tr>\n",
       "  </thead>\n",
       "  <tbody>\n",
       "    <tr>\n",
       "      <th>0</th>\n",
       "      <td>강원도</td>\n",
       "      <td>백반</td>\n",
       "      <td>11,311원</td>\n",
       "      <td>동일-</td>\n",
       "      <td>2019년 01월</td>\n",
       "    </tr>\n",
       "    <tr>\n",
       "      <th>1</th>\n",
       "      <td>경기도</td>\n",
       "      <td>백반</td>\n",
       "      <td>12,078원</td>\n",
       "      <td>동일-</td>\n",
       "      <td>2019년 01월</td>\n",
       "    </tr>\n",
       "    <tr>\n",
       "      <th>2</th>\n",
       "      <td>경상남도</td>\n",
       "      <td>백반</td>\n",
       "      <td>11,000원</td>\n",
       "      <td>동일-</td>\n",
       "      <td>2019년 01월</td>\n",
       "    </tr>\n",
       "    <tr>\n",
       "      <th>3</th>\n",
       "      <td>경상북도</td>\n",
       "      <td>백반</td>\n",
       "      <td>10,050원</td>\n",
       "      <td>동일-</td>\n",
       "      <td>2019년 01월</td>\n",
       "    </tr>\n",
       "    <tr>\n",
       "      <th>4</th>\n",
       "      <td>광주광역시</td>\n",
       "      <td>백반</td>\n",
       "      <td>12,882원</td>\n",
       "      <td>동일-</td>\n",
       "      <td>2019년 01월</td>\n",
       "    </tr>\n",
       "    <tr>\n",
       "      <th>...</th>\n",
       "      <td>...</td>\n",
       "      <td>...</td>\n",
       "      <td>...</td>\n",
       "      <td>...</td>\n",
       "      <td>...</td>\n",
       "    </tr>\n",
       "    <tr>\n",
       "      <th>33132</th>\n",
       "      <td>전라남도</td>\n",
       "      <td>카페라떼</td>\n",
       "      <td>4,283원</td>\n",
       "      <td>하락0.4%</td>\n",
       "      <td>2022년 03월</td>\n",
       "    </tr>\n",
       "    <tr>\n",
       "      <th>33133</th>\n",
       "      <td>전라북도</td>\n",
       "      <td>카페라떼</td>\n",
       "      <td>4,174원</td>\n",
       "      <td>하락0%</td>\n",
       "      <td>2022년 03월</td>\n",
       "    </tr>\n",
       "    <tr>\n",
       "      <th>33134</th>\n",
       "      <td>제주특별자치도</td>\n",
       "      <td>카페라떼</td>\n",
       "      <td>5,169원</td>\n",
       "      <td>하락0.4%</td>\n",
       "      <td>2022년 03월</td>\n",
       "    </tr>\n",
       "    <tr>\n",
       "      <th>33135</th>\n",
       "      <td>충청남도</td>\n",
       "      <td>카페라떼</td>\n",
       "      <td>4,319원</td>\n",
       "      <td>상승0%</td>\n",
       "      <td>2022년 03월</td>\n",
       "    </tr>\n",
       "    <tr>\n",
       "      <th>33136</th>\n",
       "      <td>충청북도</td>\n",
       "      <td>카페라떼</td>\n",
       "      <td>4,184원</td>\n",
       "      <td>상승1.1%</td>\n",
       "      <td>2022년 03월</td>\n",
       "    </tr>\n",
       "  </tbody>\n",
       "</table>\n",
       "<p>33137 rows × 5 columns</p>\n",
       "</div>"
      ],
      "text/plain": [
       "             0    메뉴       가격     증감율         기간\n",
       "0          강원도    백반  11,311원     동일-  2019년 01월\n",
       "1          경기도    백반  12,078원     동일-  2019년 01월\n",
       "2         경상남도    백반  11,000원     동일-  2019년 01월\n",
       "3         경상북도    백반  10,050원     동일-  2019년 01월\n",
       "4        광주광역시    백반  12,882원     동일-  2019년 01월\n",
       "...        ...   ...      ...     ...        ...\n",
       "33132     전라남도  카페라떼   4,283원  하락0.4%  2022년 03월\n",
       "33133     전라북도  카페라떼   4,174원    하락0%  2022년 03월\n",
       "33134  제주특별자치도  카페라떼   5,169원  하락0.4%  2022년 03월\n",
       "33135     충청남도  카페라떼   4,319원    상승0%  2022년 03월\n",
       "33136     충청북도  카페라떼   4,184원  상승1.1%  2022년 03월\n",
       "\n",
       "[33137 rows x 5 columns]"
      ]
     },
     "execution_count": 73,
     "metadata": {},
     "output_type": "execute_result"
    }
   ],
   "source": [
    "local_food_price_df = pd.DataFrame(local_list)\n",
    "local_food_price_df['메뉴'] = menu_name_list\n",
    "local_food_price_df['가격'] = price_list\n",
    "local_food_price_df['증감율'] = updown_list\n",
    "local_food_price_df['기간'] = date_list\n",
    "local_food_price_df"
   ]
  },
  {
   "cell_type": "code",
   "execution_count": 74,
   "metadata": {},
   "outputs": [],
   "source": [
    "local_food_price_df.columns = ['지역','메뉴','가격','변화율', '기간' ]"
   ]
  },
  {
   "cell_type": "code",
   "execution_count": 75,
   "metadata": {},
   "outputs": [
    {
     "data": {
      "text/html": [
       "<div>\n",
       "<style scoped>\n",
       "    .dataframe tbody tr th:only-of-type {\n",
       "        vertical-align: middle;\n",
       "    }\n",
       "\n",
       "    .dataframe tbody tr th {\n",
       "        vertical-align: top;\n",
       "    }\n",
       "\n",
       "    .dataframe thead th {\n",
       "        text-align: right;\n",
       "    }\n",
       "</style>\n",
       "<table border=\"1\" class=\"dataframe\">\n",
       "  <thead>\n",
       "    <tr style=\"text-align: right;\">\n",
       "      <th></th>\n",
       "      <th>지역</th>\n",
       "      <th>메뉴</th>\n",
       "      <th>가격</th>\n",
       "      <th>변화율</th>\n",
       "      <th>기간</th>\n",
       "    </tr>\n",
       "  </thead>\n",
       "  <tbody>\n",
       "    <tr>\n",
       "      <th>0</th>\n",
       "      <td>강원도</td>\n",
       "      <td>백반</td>\n",
       "      <td>11,311원</td>\n",
       "      <td>동일-</td>\n",
       "      <td>2019년 01월</td>\n",
       "    </tr>\n",
       "    <tr>\n",
       "      <th>1</th>\n",
       "      <td>경기도</td>\n",
       "      <td>백반</td>\n",
       "      <td>12,078원</td>\n",
       "      <td>동일-</td>\n",
       "      <td>2019년 01월</td>\n",
       "    </tr>\n",
       "    <tr>\n",
       "      <th>2</th>\n",
       "      <td>경상남도</td>\n",
       "      <td>백반</td>\n",
       "      <td>11,000원</td>\n",
       "      <td>동일-</td>\n",
       "      <td>2019년 01월</td>\n",
       "    </tr>\n",
       "    <tr>\n",
       "      <th>3</th>\n",
       "      <td>경상북도</td>\n",
       "      <td>백반</td>\n",
       "      <td>10,050원</td>\n",
       "      <td>동일-</td>\n",
       "      <td>2019년 01월</td>\n",
       "    </tr>\n",
       "    <tr>\n",
       "      <th>4</th>\n",
       "      <td>광주광역시</td>\n",
       "      <td>백반</td>\n",
       "      <td>12,882원</td>\n",
       "      <td>동일-</td>\n",
       "      <td>2019년 01월</td>\n",
       "    </tr>\n",
       "    <tr>\n",
       "      <th>...</th>\n",
       "      <td>...</td>\n",
       "      <td>...</td>\n",
       "      <td>...</td>\n",
       "      <td>...</td>\n",
       "      <td>...</td>\n",
       "    </tr>\n",
       "    <tr>\n",
       "      <th>33132</th>\n",
       "      <td>전라남도</td>\n",
       "      <td>카페라떼</td>\n",
       "      <td>4,283원</td>\n",
       "      <td>하락0.4%</td>\n",
       "      <td>2022년 03월</td>\n",
       "    </tr>\n",
       "    <tr>\n",
       "      <th>33133</th>\n",
       "      <td>전라북도</td>\n",
       "      <td>카페라떼</td>\n",
       "      <td>4,174원</td>\n",
       "      <td>하락0%</td>\n",
       "      <td>2022년 03월</td>\n",
       "    </tr>\n",
       "    <tr>\n",
       "      <th>33134</th>\n",
       "      <td>제주특별자치도</td>\n",
       "      <td>카페라떼</td>\n",
       "      <td>5,169원</td>\n",
       "      <td>하락0.4%</td>\n",
       "      <td>2022년 03월</td>\n",
       "    </tr>\n",
       "    <tr>\n",
       "      <th>33135</th>\n",
       "      <td>충청남도</td>\n",
       "      <td>카페라떼</td>\n",
       "      <td>4,319원</td>\n",
       "      <td>상승0%</td>\n",
       "      <td>2022년 03월</td>\n",
       "    </tr>\n",
       "    <tr>\n",
       "      <th>33136</th>\n",
       "      <td>충청북도</td>\n",
       "      <td>카페라떼</td>\n",
       "      <td>4,184원</td>\n",
       "      <td>상승1.1%</td>\n",
       "      <td>2022년 03월</td>\n",
       "    </tr>\n",
       "  </tbody>\n",
       "</table>\n",
       "<p>33137 rows × 5 columns</p>\n",
       "</div>"
      ],
      "text/plain": [
       "            지역    메뉴       가격     변화율         기간\n",
       "0          강원도    백반  11,311원     동일-  2019년 01월\n",
       "1          경기도    백반  12,078원     동일-  2019년 01월\n",
       "2         경상남도    백반  11,000원     동일-  2019년 01월\n",
       "3         경상북도    백반  10,050원     동일-  2019년 01월\n",
       "4        광주광역시    백반  12,882원     동일-  2019년 01월\n",
       "...        ...   ...      ...     ...        ...\n",
       "33132     전라남도  카페라떼   4,283원  하락0.4%  2022년 03월\n",
       "33133     전라북도  카페라떼   4,174원    하락0%  2022년 03월\n",
       "33134  제주특별자치도  카페라떼   5,169원  하락0.4%  2022년 03월\n",
       "33135     충청남도  카페라떼   4,319원    상승0%  2022년 03월\n",
       "33136     충청북도  카페라떼   4,184원  상승1.1%  2022년 03월\n",
       "\n",
       "[33137 rows x 5 columns]"
      ]
     },
     "execution_count": 75,
     "metadata": {},
     "output_type": "execute_result"
    }
   ],
   "source": [
    "local_food_price_df"
   ]
  },
  {
   "cell_type": "code",
   "execution_count": 76,
   "metadata": {},
   "outputs": [],
   "source": [
    "local_food_price_df.to_csv('food_price_df.csv', encoding='utf-8-sig')"
   ]
  }
 ],
 "metadata": {
  "kernelspec": {
   "display_name": "Python 3",
   "language": "python",
   "name": "python3"
  },
  "language_info": {
   "codemirror_mode": {
    "name": "ipython",
    "version": 3
   },
   "file_extension": ".py",
   "mimetype": "text/x-python",
   "name": "python",
   "nbconvert_exporter": "python",
   "pygments_lexer": "ipython3",
   "version": "3.12.0"
  }
 },
 "nbformat": 4,
 "nbformat_minor": 2
}
